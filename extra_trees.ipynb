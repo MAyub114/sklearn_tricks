{
 "cells": [
  {
   "cell_type": "markdown",
   "metadata": {},
   "source": [
    "# Ensemble extra trees\n",
    "\n",
    "* Random Forests are prone to overfitting\n",
    "* Extra Trees are an alternative\n",
    "* The 'extra' refers to extra randomness\n",
    "  * Build many decision trees\n",
    "  * Sampling of each tree is random without replacement\n",
    "  * Therefore each tree has a unique set of samples\n",
    "  * Randomly select a subset of features for each tree\n",
    "  * Gini or entropy is NOT used to split data\n",
    "  * Algorithm randomly selects a split value"
   ]
  },
  {
   "cell_type": "code",
   "execution_count": 1,
   "metadata": {},
   "outputs": [],
   "source": [
    "from sklearn.datasets import make_regression\n",
    "from sklearn.ensemble import ExtraTreesRegressor, RandomForestRegressor\n",
    "from sklearn.model_selection import cross_val_score\n",
    "from sklearn.tree import DecisionTreeRegressor"
   ]
  },
  {
   "cell_type": "markdown",
   "metadata": {},
   "source": [
    "### Create dataset\n",
    "\n",
    "* A regression dataset of 10k samples and 20 features"
   ]
  },
  {
   "cell_type": "code",
   "execution_count": 2,
   "metadata": {},
   "outputs": [],
   "source": [
    "X, y = make_regression(n_samples=10000, n_features=20)"
   ]
  },
  {
   "cell_type": "markdown",
   "metadata": {},
   "source": [
    "### Decision Tree\n",
    "\n",
    "* Mean accuracy score is 0.62"
   ]
  },
  {
   "cell_type": "code",
   "execution_count": 10,
   "metadata": {},
   "outputs": [
    {
     "name": "stdout",
     "output_type": "stream",
     "text": [
      "Cross-validation mean accuracy score = 0.62\n"
     ]
    }
   ],
   "source": [
    "clf = DecisionTreeRegressor(\n",
    "    max_depth=None,\n",
    "    min_samples_split=2,\n",
    "    random_state=0\n",
    ")\n",
    "scores = cross_val_score(clf, X, y, cv=5)\n",
    "print(f\"Cross-validation mean accuracy score = {scores.mean():.2f}\")"
   ]
  },
  {
   "cell_type": "markdown",
   "metadata": {},
   "source": [
    "### Random Forest\n",
    "\n",
    "* Mean accuracy score is 0.84"
   ]
  },
  {
   "cell_type": "code",
   "execution_count": 11,
   "metadata": {},
   "outputs": [
    {
     "name": "stdout",
     "output_type": "stream",
     "text": [
      "Cross-validation mean accuracy score = 0.84\n"
     ]
    }
   ],
   "source": [
    "clf = RandomForestRegressor(\n",
    "    n_estimators=10,\n",
    "    max_depth=None,\n",
    "    min_samples_split=2,\n",
    "    random_state=0\n",
    ")\n",
    "scores = cross_val_score(clf, X, y, cv=5)\n",
    "print(f\"Cross-validation mean accuracy score = {scores.mean():.2f}\")"
   ]
  },
  {
   "cell_type": "markdown",
   "metadata": {},
   "source": [
    "### Extra Trees\n",
    "\n",
    "* Mean accuracy score is 0.87"
   ]
  },
  {
   "cell_type": "code",
   "execution_count": 12,
   "metadata": {},
   "outputs": [
    {
     "name": "stdout",
     "output_type": "stream",
     "text": [
      "Cross-validation mean accuracy score = 0.87\n"
     ]
    }
   ],
   "source": [
    "clf = ExtraTreesRegressor(\n",
    "    n_estimators=10,\n",
    "    max_depth=None,\n",
    "    min_samples_split=2,\n",
    "    random_state=0\n",
    ")\n",
    "scores = cross_val_score(clf, X, y, cv=5)\n",
    "print(f\"Cross-validation mean accuracy score = {scores.mean():.2f}\")"
   ]
  }
 ],
 "metadata": {
  "kernelspec": {
   "display_name": "Python 3",
   "language": "python",
   "name": "python3"
  },
  "language_info": {
   "codemirror_mode": {
    "name": "ipython",
    "version": 3
   },
   "file_extension": ".py",
   "mimetype": "text/x-python",
   "name": "python",
   "nbconvert_exporter": "python",
   "pygments_lexer": "ipython3",
   "version": "3.10.8"
  },
  "orig_nbformat": 4
 },
 "nbformat": 4,
 "nbformat_minor": 2
}
