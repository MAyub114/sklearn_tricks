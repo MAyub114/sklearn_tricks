{
 "cells": [
  {
   "cell_type": "markdown",
   "metadata": {},
   "source": [
    "# Ensemble extra trees\n",
    "\n",
    "* Random Forests are prone to overfitting\n",
    "* Extra Trees are an alternative\n",
    "* The 'extra' refers to extra randomness\n",
    "  * Build many decision trees\n",
    "  * Sampling of each tree is random without replacement\n",
    "  * Therefore each tree has a unique set of samples\n",
    "  * Randomly select a subset of features for each tree\n",
    "  * Gini or entropy is NOT used to split data\n",
    "  * Algorithm randomly selects a split value"
   ]
  },
  {
   "cell_type": "code",
   "execution_count": null,
   "metadata": {},
   "outputs": [],
   "source": [
    "from sklearn.ensemble import ExtraTreesRegressor, RandomForestRegressor\n",
    "from sklearn.model_selection import cross_val_score\n",
    "from sklearn.tree import DecisionTreeRegressor"
   ]
  },
  {
   "cell_type": "markdown",
   "metadata": {},
   "source": []
  }
 ],
 "metadata": {
  "language_info": {
   "name": "python"
  },
  "orig_nbformat": 4
 },
 "nbformat": 4,
 "nbformat_minor": 2
}
