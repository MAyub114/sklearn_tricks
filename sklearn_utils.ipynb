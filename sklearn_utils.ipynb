{
 "cells": [
  {
   "cell_type": "markdown",
   "metadata": {},
   "source": [
    "# sklearn.utils\n",
    "\n",
    "* Sklearn has many helper functions\n",
    "* Sklearn itself uses them to build all the transformers and estimators\n",
    "* Use them in your own workflow\n",
    "* Reference - https://scikit-learn.org/stable/developers/utilities.html"
   ]
  },
  {
   "cell_type": "markdown",
   "metadata": {},
   "source": []
  }
 ],
 "metadata": {
  "language_info": {
   "name": "python"
  },
  "orig_nbformat": 4
 },
 "nbformat": 4,
 "nbformat_minor": 2
}
