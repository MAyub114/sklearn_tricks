{
 "cells": [
  {
   "cell_type": "markdown",
   "metadata": {},
   "source": [
    "# Recursive Feature Elimination (RFE)\n",
    "\n",
    "* Automatically finds the most important features by using cross-validation and discarding the rest.\n",
    "* Create a fake dataset of 15 features, 10 of which are informative, and the rest are redundant.\n",
    "* Fit a 5-fold RFECV with `Ridge` regression as an estimator.\n",
    "* After training, use the `transform` method to discard the redundant features.\n",
    "* Calling `.shape` shows that the estimator managed to drop all 5 unnecessary features."
   ]
  },
  {
   "cell_type": "code",
   "execution_count": 1,
   "metadata": {},
   "outputs": [],
   "source": [
    "from sklearn.datasets import make_regression\n",
    "from sklearn.feature_selection import RFECV\n",
    "from sklearn.linear_model import Ridge"
   ]
  },
  {
   "cell_type": "code",
   "execution_count": 2,
   "metadata": {},
   "outputs": [
    {
     "data": {
      "text/plain": [
       "(10000, 10)"
      ]
     },
     "execution_count": 2,
     "metadata": {},
     "output_type": "execute_result"
    }
   ],
   "source": [
    "# Build a synthetic dataset\n",
    "X, y = make_regression(n_samples=10000, n_features=15, n_informative=10)\n",
    "\n",
    "# Init/fit the selector\n",
    "rfecv = RFECV(estimator=Ridge(), cv=5)\n",
    "_ = rfecv.fit(X, y)\n",
    "\n",
    "# Transform the feature array\n",
    "rfecv.transform(X).shape"
   ]
  },
  {
   "cell_type": "markdown",
   "metadata": {},
   "source": [
    "## Ansur dataset\n",
    "\n",
    "* 6000 US Male Army Personnel.\n",
    "* Records more than 100 different types of body measurements.\n",
    "* Challenge is to predict the weight in pounds using as few features as possible."
   ]
  },
  {
   "cell_type": "code",
   "execution_count": 7,
   "metadata": {},
   "outputs": [],
   "source": [
    "import pandas as pd\n",
    "from sklearn.ensemble import RandomForestRegressor\n",
    "from sklearn.model_selection import train_test_split\n",
    "from sklearn.preprocessing import StandardScaler"
   ]
  },
  {
   "cell_type": "code",
   "execution_count": 6,
   "metadata": {},
   "outputs": [
    {
     "ename": "NameError",
     "evalue": "name 'ansur' is not defined",
     "output_type": "error",
     "traceback": [
      "\u001b[0;31m---------------------------------------------------------------------------\u001b[0m",
      "\u001b[0;31mNameError\u001b[0m                                 Traceback (most recent call last)",
      "Cell \u001b[0;32mIn[6], line 2\u001b[0m\n\u001b[1;32m      1\u001b[0m \u001b[39m# Feature, target arrays\u001b[39;00m\n\u001b[0;32m----> 2\u001b[0m X, y \u001b[39m=\u001b[39m ansur\u001b[39m.\u001b[39miloc[:, :\u001b[39m-\u001b[39m\u001b[39m1\u001b[39m], ansur\u001b[39m.\u001b[39miloc[:, \u001b[39m-\u001b[39m\u001b[39m1\u001b[39m]\n",
      "\u001b[0;31mNameError\u001b[0m: name 'ansur' is not defined"
     ]
    }
   ],
   "source": [
    "# Load dataset\n",
    "ansur = pd.read_csv(\"\")\n",
    "\n",
    "# Feature, target arrays\n",
    "X, y = ansur.iloc[:, :-1], ansur.iloc[:, -1]"
   ]
  },
  {
   "cell_type": "code",
   "execution_count": null,
   "metadata": {},
   "outputs": [],
   "source": []
  }
 ],
 "metadata": {
  "kernelspec": {
   "display_name": "Python 3",
   "language": "python",
   "name": "python3"
  },
  "language_info": {
   "codemirror_mode": {
    "name": "ipython",
    "version": 3
   },
   "file_extension": ".py",
   "mimetype": "text/x-python",
   "name": "python",
   "nbconvert_exporter": "python",
   "pygments_lexer": "ipython3",
   "version": "3.10.8"
  },
  "orig_nbformat": 4
 },
 "nbformat": 4,
 "nbformat_minor": 2
}
