{
 "cells": [
  {
   "cell_type": "markdown",
   "metadata": {},
   "source": [
    "# Recursive Feature Elimination (RFE)\n",
    "\n",
    "* Automatically finds the most important features by using cross-validation and discarding the rest.\n",
    "* Create a fake dataset of 15 features, 10 of which are informative, and the rest are redundant.\n",
    "* Fit a 5-fold RFECV with `Ridge` regression as an estimator.\n",
    "* After training, use the `transform` method to discard the redundant features.\n",
    "* Calling `.shape` shows that the estimator managed to drop all 5 unnecessary features."
   ]
  },
  {
   "cell_type": "code",
   "execution_count": 1,
   "metadata": {},
   "outputs": [],
   "source": [
    "from sklearn.datasets import make_regression\n",
    "from sklearn.feature_selection import RFECV\n",
    "from sklearn.linear_model import Ridge"
   ]
  },
  {
   "cell_type": "code",
   "execution_count": 2,
   "metadata": {},
   "outputs": [],
   "source": [
    "def get_model_coefficients(X_train, model):\n",
    "    return pd.DataFrame(\n",
    "        zip(X_train.columns, abs(model.feature_importances_)),\n",
    "        columns=[\"feature\", \"weight\"],\n",
    "        ).sort_values(\"weight\").reset_index(drop=True)"
   ]
  },
  {
   "cell_type": "code",
   "execution_count": 3,
   "metadata": {},
   "outputs": [
    {
     "name": "stdout",
     "output_type": "stream",
     "text": [
      "(10000, 10)\n"
     ]
    },
    {
     "data": {
      "text/plain": [
       "array([[-0.31515513,  0.4540941 , -0.06624467, ..., -0.55378483,\n",
       "         0.71184009,  0.44486228],\n",
       "       [ 0.6065811 ,  1.43812206, -0.05342859, ...,  0.51570444,\n",
       "         0.26159076,  0.93517493],\n",
       "       [ 1.22746837, -0.31445629,  0.29528331, ..., -2.01382337,\n",
       "        -0.28925247,  0.61773845],\n",
       "       ...,\n",
       "       [ 1.24816453, -0.32682348,  0.12148773, ...,  1.4741984 ,\n",
       "        -0.14154531,  0.10864823],\n",
       "       [ 0.79025152,  1.19168395, -0.62832295, ..., -0.36461622,\n",
       "        -0.63567108,  0.34771085],\n",
       "       [-0.50133269,  0.22721426,  0.41357835, ..., -0.78072342,\n",
       "         1.1629103 , -0.57966704]])"
      ]
     },
     "execution_count": 3,
     "metadata": {},
     "output_type": "execute_result"
    }
   ],
   "source": [
    "# Build a synthetic dataset\n",
    "X, y = make_regression(n_samples=10000, n_features=15, n_informative=10)\n",
    "\n",
    "# Init/fit the selector\n",
    "rfecv = RFECV(estimator=Ridge(), cv=5)\n",
    "_ = rfecv.fit(X, y)\n",
    "\n",
    "# Transform the feature array\n",
    "print(rfecv.transform(X).shape)\n",
    "rfecv.transform(X)"
   ]
  },
  {
   "cell_type": "markdown",
   "metadata": {},
   "source": [
    "## Ansur dataset\n",
    "\n",
    "* 6000 US Male Army Personnel.\n",
    "* Records more than 100 different types of body measurements.\n",
    "* Challenge is to predict the weight in pounds using as few features as possible."
   ]
  },
  {
   "cell_type": "code",
   "execution_count": 21,
   "metadata": {},
   "outputs": [],
   "source": [
    "import os\n",
    "import pandas as pd\n",
    "import numpy as np\n",
    "from sklearn.ensemble import RandomForestRegressor\n",
    "from sklearn.linear_model import LinearRegression\n",
    "from sklearn.model_selection import train_test_split\n",
    "from sklearn.preprocessing import StandardScaler\n",
    "from sklearn.feature_selection import RFE, RFECV"
   ]
  },
  {
   "cell_type": "code",
   "execution_count": 5,
   "metadata": {},
   "outputs": [],
   "source": [
    "DATA_DIR = '/workspaces/sklearn_tricks/data/'\n",
    "\n",
    "# Load dataset\n",
    "ansur = pd.read_csv(DATA_DIR + 'Ansur.csv', encoding='latin1')"
   ]
  },
  {
   "cell_type": "markdown",
   "metadata": {},
   "source": [
    "### Managing the data\n",
    "\n",
    "Dataset has 9 non-numerical columns:\n",
    "\n",
    "| Feature               | # unique values  |\n",
    "|-----------------------|-----|\n",
    "| Gender                |   1 |\n",
    "| Date                  | 185 |\n",
    "| Installation          |  11 |\n",
    "| Component             |   3 |\n",
    "| Branch                |   3 |\n",
    "| PrimaryMOS            | 229 |\n",
    "| SubjectsBirthLocation | 126 |\n",
    "| Ethnicity             | 159 |\n",
    "| WritingPreference     |   3 |\n",
    "\n",
    "### Strategy #1 - ignore all non-numerical values\n",
    "\n",
    "* We lose all 9 features.\n",
    "* We still have 98 features for the model to learn from."
   ]
  },
  {
   "cell_type": "code",
   "execution_count": 6,
   "metadata": {},
   "outputs": [
    {
     "name": "stdout",
     "output_type": "stream",
     "text": [
      "Gender                     1\n",
      "Date                     185\n",
      "Installation              11\n",
      "Component                  3\n",
      "Branch                     3\n",
      "PrimaryMOS               229\n",
      "SubjectsBirthLocation    126\n",
      "Ethnicity                159\n",
      "WritingPreference          3\n",
      "dtype: int64\n"
     ]
    }
   ],
   "source": [
    "# Find non-numeric columns\n",
    "numeric_cols = ansur.select_dtypes(include=['number']).columns\n",
    "ansur_numeric = ansur.select_dtypes(include=['number'])\n",
    "\n",
    "# Drop numerical columns\n",
    "ansur_non_numeric = ansur.drop(columns=numeric_cols)\n",
    "print(ansur_non_numeric.nunique())"
   ]
  },
  {
   "cell_type": "markdown",
   "metadata": {},
   "source": [
    "### Set target variable (y) and feature vector (X) "
   ]
  },
  {
   "cell_type": "code",
   "execution_count": 7,
   "metadata": {},
   "outputs": [],
   "source": [
    "# Get target (Weightlbs) and remaining 107 features\n",
    "y = ansur_numeric['Weightlbs']\n",
    "X = ansur_numeric.drop('Weightlbs', axis=1)"
   ]
  },
  {
   "cell_type": "markdown",
   "metadata": {},
   "source": [
    "### Scale the data"
   ]
  },
  {
   "cell_type": "code",
   "execution_count": 8,
   "metadata": {},
   "outputs": [],
   "source": [
    "# Train/test set generation\n",
    "X_train, X_test, y_train, y_test = train_test_split(X, y, test_size=0.2, random_state=0)\n",
    "\n",
    "# Scale train and test sets with StandardScaler\n",
    "X_train_std = StandardScaler().fit_transform(X_train)\n",
    "X_test_std = StandardScaler().fit_transform(X_test)\n",
    "\n",
    "# Fix the dimensions of the target array\n",
    "y_train = y_train.values.reshape(-1, 1)\n",
    "y_test = y_test.values.reshape(-1, 1)"
   ]
  },
  {
   "cell_type": "markdown",
   "metadata": {},
   "source": [
    "### Fit a Random Forest regression model\n",
    "\n",
    "* Base model\n",
    "* Achieves R-squared score of 0.957"
   ]
  },
  {
   "cell_type": "code",
   "execution_count": 10,
   "metadata": {},
   "outputs": [
    {
     "data": {
      "text/plain": [
       "0.95893533120974"
      ]
     },
     "execution_count": 10,
     "metadata": {},
     "output_type": "execute_result"
    }
   ],
   "source": [
    "# Init, fit, test Lasso Regressor\n",
    "forest = RandomForestRegressor()\n",
    "_ = forest.fit(X_train_std, y_train.ravel())\n",
    "forest.score(X_test_std, y_test)"
   ]
  },
  {
   "cell_type": "markdown",
   "metadata": {},
   "source": [
    "### Feature weights\n",
    "\n",
    "* Model has feature coefficients (weights)\n",
    "* Use the model .feature_importances_ method to display each feature's weight\n",
    "* Weights near zero contribute little to the model\n",
    "* CAUTION:\n",
    "  * Removing a single feature forces other coefficients to change\n",
    "  * We cannot just remove multiple features\n",
    "  * Instead, need to remove one at a time\n",
    "  * Sklearn provides the RFE class to automate this process"
   ]
  },
  {
   "cell_type": "code",
   "execution_count": 11,
   "metadata": {},
   "outputs": [
    {
     "data": {
      "text/html": [
       "<div>\n",
       "<style scoped>\n",
       "    .dataframe tbody tr th:only-of-type {\n",
       "        vertical-align: middle;\n",
       "    }\n",
       "\n",
       "    .dataframe tbody tr th {\n",
       "        vertical-align: top;\n",
       "    }\n",
       "\n",
       "    .dataframe thead th {\n",
       "        text-align: right;\n",
       "    }\n",
       "</style>\n",
       "<table border=\"1\" class=\"dataframe\">\n",
       "  <thead>\n",
       "    <tr style=\"text-align: right;\">\n",
       "      <th></th>\n",
       "      <th>feature</th>\n",
       "      <th>weight</th>\n",
       "    </tr>\n",
       "  </thead>\n",
       "  <tbody>\n",
       "    <tr>\n",
       "      <th>0</th>\n",
       "      <td>DODRace</td>\n",
       "      <td>0.000061</td>\n",
       "    </tr>\n",
       "    <tr>\n",
       "      <th>1</th>\n",
       "      <td>cervicaleheight</td>\n",
       "      <td>0.000159</td>\n",
       "    </tr>\n",
       "    <tr>\n",
       "      <th>2</th>\n",
       "      <td>SubjectNumericRace</td>\n",
       "      <td>0.000163</td>\n",
       "    </tr>\n",
       "    <tr>\n",
       "      <th>3</th>\n",
       "      <td>Heightin</td>\n",
       "      <td>0.000176</td>\n",
       "    </tr>\n",
       "    <tr>\n",
       "      <th>4</th>\n",
       "      <td>suprasternaleheight</td>\n",
       "      <td>0.000181</td>\n",
       "    </tr>\n",
       "    <tr>\n",
       "      <th>...</th>\n",
       "      <td>...</td>\n",
       "      <td>...</td>\n",
       "    </tr>\n",
       "    <tr>\n",
       "      <th>93</th>\n",
       "      <td>forearmcircumferenceflexed</td>\n",
       "      <td>0.002415</td>\n",
       "    </tr>\n",
       "    <tr>\n",
       "      <th>94</th>\n",
       "      <td>shouldercircumference</td>\n",
       "      <td>0.002442</td>\n",
       "    </tr>\n",
       "    <tr>\n",
       "      <th>95</th>\n",
       "      <td>bimalleolarbreadth</td>\n",
       "      <td>0.002496</td>\n",
       "    </tr>\n",
       "    <tr>\n",
       "      <th>96</th>\n",
       "      <td>bideltoidbreadth</td>\n",
       "      <td>0.004124</td>\n",
       "    </tr>\n",
       "    <tr>\n",
       "      <th>97</th>\n",
       "      <td>weightkg</td>\n",
       "      <td>0.938773</td>\n",
       "    </tr>\n",
       "  </tbody>\n",
       "</table>\n",
       "<p>98 rows × 2 columns</p>\n",
       "</div>"
      ],
      "text/plain": [
       "                       feature    weight\n",
       "0                      DODRace  0.000061\n",
       "1              cervicaleheight  0.000159\n",
       "2           SubjectNumericRace  0.000163\n",
       "3                     Heightin  0.000176\n",
       "4          suprasternaleheight  0.000181\n",
       "..                         ...       ...\n",
       "93  forearmcircumferenceflexed  0.002415\n",
       "94       shouldercircumference  0.002442\n",
       "95          bimalleolarbreadth  0.002496\n",
       "96            bideltoidbreadth  0.004124\n",
       "97                    weightkg  0.938773\n",
       "\n",
       "[98 rows x 2 columns]"
      ]
     },
     "execution_count": 11,
     "metadata": {},
     "output_type": "execute_result"
    }
   ],
   "source": [
    "get_model_coefficients(X_train, model=forest)"
   ]
  },
  {
   "cell_type": "markdown",
   "metadata": {},
   "source": [
    "### Sklearn Recursive Feature Elimination class\n",
    "\n",
    "* Removes features one at a time based on the weights given by a model in each iteration"
   ]
  },
  {
   "cell_type": "code",
   "execution_count": 12,
   "metadata": {},
   "outputs": [],
   "source": [
    "# Init the transformer\n",
    "rfe = RFE(estimator=RandomForestRegressor(), n_features_to_select=10)\n",
    "\n",
    "# Fit to the training data\n",
    "_ = rfe.fit(X_train_std, y_train.ravel())"
   ]
  },
  {
   "cell_type": "code",
   "execution_count": 15,
   "metadata": {},
   "outputs": [],
   "source": [
    "# NumPy array of just 10 most important features\n",
    "ansur_rfe_10 = rfe.transform(X_train_std)"
   ]
  },
  {
   "cell_type": "markdown",
   "metadata": {},
   "source": [
    "### Fit a Random Forest regression model on 10 features\n",
    "\n",
    "* Base model\n",
    "* Achieves R-squared score of 0.956\n",
    "* With 98 features the R-squared score was 0.957"
   ]
  },
  {
   "cell_type": "code",
   "execution_count": 17,
   "metadata": {},
   "outputs": [
    {
     "data": {
      "text/plain": [
       "0.9557863523459048"
      ]
     },
     "execution_count": 17,
     "metadata": {},
     "output_type": "execute_result"
    }
   ],
   "source": [
    "# Init, fit, score\n",
    "forest = RandomForestRegressor()\n",
    "_ = forest.fit(ansur_rfe_10, y_train.ravel())\n",
    "forest.score(rfe.transform(X_test_std), y_test)"
   ]
  },
  {
   "cell_type": "markdown",
   "metadata": {},
   "source": [
    "### RFE performance considerations\n",
    "\n",
    "* RFE trains a given model on the FULL DATASET every time it drops a feature\n",
    "* Computation time is long for large datasets with many features\n",
    "* Use the step parameter to drop N features instead of 1 in each iteration\n",
    "* In this example, we use step = 10\n",
    "* The RFE was calculated in 1 minute 15 seconds versus 11 minutes 27 seconds when only 1 feature was dropped at each iteration"
   ]
  },
  {
   "cell_type": "code",
   "execution_count": 19,
   "metadata": {},
   "outputs": [
    {
     "name": "stdout",
     "output_type": "stream",
     "text": [
      "Index(['bicepscircumferenceflexed', 'bideltoidbreadth', 'bimalleolarbreadth',\n",
      "       'bizygomaticbreadth', 'forearmforearmbreadth', 'handcircumference',\n",
      "       'neckcircumferencebase', 'shouldercircumference', 'weightkg',\n",
      "       'wristheight'],\n",
      "      dtype='object')\n"
     ]
    }
   ],
   "source": [
    "# Init the transformer\n",
    "rfe = RFE(estimator=RandomForestRegressor(),\n",
    "          n_features_to_select=10,\n",
    "          step=10)\n",
    "\n",
    "_ = rfe.fit(X_train_std, y_train.ravel())\n",
    "\n",
    "print(X_train.columns[rfe.support_])"
   ]
  },
  {
   "cell_type": "markdown",
   "metadata": {},
   "source": [
    "### Automatically choosing number of features\n",
    "\n",
    "* We arbitrarily chose 10 features\n",
    "* We can use RFE with cross-validation to find the optimal number of features to keep\n",
    "* This is the RFECV class\n",
    "* In this example, we choose the estimator to be a simple linear regression instead of random forest which will be computationally expensive\n",
    "* We can use linear regression since our hypothesis states that there is a linear correlation between body measurements\n",
    "* RFECV suggests we keep only 5 features\n",
    "* Our R-squared score is 0.963 with only 5 features"
   ]
  },
  {
   "cell_type": "code",
   "execution_count": 24,
   "metadata": {},
   "outputs": [
    {
     "name": "stdout",
     "output_type": "stream",
     "text": [
      "Index(['acromialheight', 'bideltoidbreadth', 'shouldercircumference',\n",
      "       'stature', 'weightkg'],\n",
      "      dtype='object')\n"
     ]
    }
   ],
   "source": [
    "# Init, fit\n",
    "rfecv = RFECV(\n",
    "    estimator=LinearRegression(),\n",
    "    min_features_to_select=5,\n",
    "    step=5,\n",
    "    n_jobs=-1,\n",
    "    scoring=\"r2\",\n",
    "    cv=5,\n",
    ")\n",
    "\n",
    "_ = rfecv.fit(X_train_std, y_train)\n",
    "\n",
    "print(X_train.columns[rfecv.support_])"
   ]
  },
  {
   "cell_type": "code",
   "execution_count": 25,
   "metadata": {},
   "outputs": [
    {
     "name": "stdout",
     "output_type": "stream",
     "text": [
      "Training R-squared: 0.9387440321037271\n",
      "Testing R-squared: 0.962870350802704\n"
     ]
    }
   ],
   "source": [
    "lr = LinearRegression()\n",
    "_ = lr.fit(X_train_std, y_train)\n",
    "\n",
    "print(f\"Training R-squared: {lr.score(X_train_std, y_train)}\")\n",
    "print(f\"Testing R-squared: {lr.score(X_test_std, y_test)}\")"
   ]
  },
  {
   "cell_type": "code",
   "execution_count": null,
   "metadata": {},
   "outputs": [],
   "source": []
  }
 ],
 "metadata": {
  "kernelspec": {
   "display_name": "Python 3",
   "language": "python",
   "name": "python3"
  },
  "language_info": {
   "codemirror_mode": {
    "name": "ipython",
    "version": 3
   },
   "file_extension": ".py",
   "mimetype": "text/x-python",
   "name": "python",
   "nbconvert_exporter": "python",
   "pygments_lexer": "ipython3",
   "version": "3.10.8"
  },
  "orig_nbformat": 4
 },
 "nbformat": 4,
 "nbformat_minor": 2
}
