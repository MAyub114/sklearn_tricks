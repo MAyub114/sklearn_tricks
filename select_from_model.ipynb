{
 "cells": [
  {
   "cell_type": "markdown",
   "metadata": {},
   "source": [
    "# Feature selection - select from model"
   ]
  },
  {
   "cell_type": "code",
   "execution_count": 6,
   "metadata": {},
   "outputs": [],
   "source": [
    "from sklearn.datasets import make_regression\n",
    "from sklearn.feature_selection import SelectFromModel\n",
    "from sklearn.ensemble import ExtraTreesRegressor"
   ]
  },
  {
   "cell_type": "markdown",
   "metadata": {},
   "source": [
    "### Create dataset\n",
    "\n",
    "* Dataset with 1000 samples, 50 features\n",
    "* Only 10 features are informative"
   ]
  },
  {
   "cell_type": "code",
   "execution_count": 8,
   "metadata": {},
   "outputs": [
    {
     "name": "stdout",
     "output_type": "stream",
     "text": [
      "Number of features = 50\n"
     ]
    }
   ],
   "source": [
    "# Make a dataset with 40 uninformative features\n",
    "X, y = make_regression(n_samples=int(1e4), n_features=50, n_informative=10)\n",
    "print(f\"Number of features = {X.shape[1]}\")"
   ]
  },
  {
   "cell_type": "markdown",
   "metadata": {},
   "source": [
    "### Use SelectFromModel\n",
    "\n",
    "* Not as robust as RFECV\n",
    "* Lower computational costs\n",
    "* Better for massive datasets\n",
    "* Original dataset had 10 informative features out of 50\n",
    "* SelectFromModel select 7"
   ]
  },
  {
   "cell_type": "code",
   "execution_count": 9,
   "metadata": {},
   "outputs": [
    {
     "name": "stdout",
     "output_type": "stream",
     "text": [
      "Number of features = 7\n"
     ]
    }
   ],
   "source": [
    "# Init the selector and transform feature array\n",
    "selector = SelectFromModel(estimator=ExtraTreesRegressor()).fit(X, y)\n",
    "\n",
    "print(f\"Number of features = {selector.transform(X).shape[1]}\")"
   ]
  }
 ],
 "metadata": {
  "kernelspec": {
   "display_name": "Python 3",
   "language": "python",
   "name": "python3"
  },
  "language_info": {
   "codemirror_mode": {
    "name": "ipython",
    "version": 3
   },
   "file_extension": ".py",
   "mimetype": "text/x-python",
   "name": "python",
   "nbconvert_exporter": "python",
   "pygments_lexer": "ipython3",
   "version": "3.10.8"
  },
  "orig_nbformat": 4
 },
 "nbformat": 4,
 "nbformat_minor": 2
}
