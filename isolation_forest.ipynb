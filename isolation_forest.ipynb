{
 "cells": [
  {
   "cell_type": "markdown",
   "metadata": {},
   "source": [
    "# Isolation Forest\n",
    "\n",
    "* Builds an ensemble of extremely random trees\n",
    "* Suitable for processing large datasets\n",
    "  * Linear time-complexity\n",
    "  * Low memory usage\n",
    "* Used for detecting outliers"
   ]
  },
  {
   "cell_type": "code",
   "execution_count": 1,
   "metadata": {},
   "outputs": [],
   "source": [
    "import numpy as np\n",
    "from sklearn.ensemble import IsolationForest\n",
    "import matplotlib.pyplot as plt"
   ]
  },
  {
   "cell_type": "markdown",
   "metadata": {},
   "source": [
    "### Create dataset\n",
    "\n",
    "* Dataset has 4 values\n",
    "* 3 are low [-1.1, 0.5]\n",
    "* One outlier (100)"
   ]
  },
  {
   "cell_type": "code",
   "execution_count": 2,
   "metadata": {},
   "outputs": [
    {
     "data": {
      "text/plain": [
       "array([[ -1.1],\n",
       "       [  0.3],\n",
       "       [  0.5],\n",
       "       [100. ]])"
      ]
     },
     "execution_count": 2,
     "metadata": {},
     "output_type": "execute_result"
    }
   ],
   "source": [
    "X = np.array([-1.1, 0.3, 0.5, 100]).reshape(-1, 1)\n",
    "X"
   ]
  },
  {
   "cell_type": "markdown",
   "metadata": {},
   "source": [
    "### Fit model\n",
    "\n",
    "* Use Isolation Forest to learn what is an anomaly\n",
    "  * Randomly sub-sampled data is processed in a tree\n",
    "  * Use randomly selected features\n",
    "  * Samples deep into the tree are not anomalies (required more cuts to isolate)\n",
    "  * Samples in short branches are more likely to be anomalies (easier for the model to separate them from other observations)\n",
    "* Test model on new data: 0.1, 0, 90\n",
    "* Model correctly identifies the anomaly as 90\n",
    "* Anomalies are labelled -1"
   ]
  },
  {
   "cell_type": "code",
   "execution_count": 3,
   "metadata": {},
   "outputs": [
    {
     "data": {
      "text/plain": [
       "array([ 1,  1, -1])"
      ]
     },
     "execution_count": 3,
     "metadata": {},
     "output_type": "execute_result"
    }
   ],
   "source": [
    "clf = IsolationForest(random_state=0).fit(X)\n",
    "clf.predict([[0.1], [0], [90]])"
   ]
  },
  {
   "cell_type": "code",
   "execution_count": null,
   "metadata": {},
   "outputs": [],
   "source": []
  }
 ],
 "metadata": {
  "kernelspec": {
   "display_name": "Python 3",
   "language": "python",
   "name": "python3"
  },
  "language_info": {
   "codemirror_mode": {
    "name": "ipython",
    "version": 3
   },
   "file_extension": ".py",
   "mimetype": "text/x-python",
   "name": "python",
   "nbconvert_exporter": "python",
   "pygments_lexer": "ipython3",
   "version": "3.10.8"
  },
  "orig_nbformat": 4
 },
 "nbformat": 4,
 "nbformat_minor": 2
}
